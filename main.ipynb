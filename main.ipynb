{
 "cells": [
  {
   "cell_type": "markdown",
   "source": [
    "Импортирую все необходимые для работы библиотеки"
   ],
   "metadata": {
    "collapsed": false
   },
   "id": "d73624191e5021ca"
  },
  {
   "cell_type": "code",
   "execution_count": 2,
   "id": "initial_id",
   "metadata": {
    "collapsed": true,
    "ExecuteTime": {
     "end_time": "2024-01-29T20:46:35.603087700Z",
     "start_time": "2024-01-29T20:46:34.812644400Z"
    }
   },
   "outputs": [],
   "source": [
    "import pandas as pd"
   ]
  },
  {
   "cell_type": "markdown",
   "source": [
    "Читаю датасет и получаю основные параметры"
   ],
   "metadata": {
    "collapsed": false
   },
   "id": "df1b385fadf6c8fb"
  },
  {
   "cell_type": "code",
   "outputs": [
    {
     "name": "stdout",
     "output_type": "stream",
     "text": [
      "                                                text  is_train     class\n",
      "0  трамп клинтон выиграли праймериз аризоне проиг...      True     world\n",
      "1  Госдума утвердила введение присяги вступлении ...      True  politics\n",
      "2  черная дыра роскосмоса откуда берутся заоблачн...      True  politics\n",
      "3  уганде родители пытались убить дочь переход ис...      True  religion\n",
      "4  Белгородский захватчик банка получил года коло...      True  politics\n",
      "<class 'pandas.core.frame.DataFrame'>\n",
      "RangeIndex: 408346 entries, 0 to 408345\n",
      "Data columns (total 3 columns):\n",
      " #   Column    Non-Null Count   Dtype \n",
      "---  ------    --------------   ----- \n",
      " 0   text      408346 non-null  object\n",
      " 1   is_train  408346 non-null  bool  \n",
      " 2   class     407584 non-null  object\n",
      "dtypes: bool(1), object(2)\n",
      "memory usage: 6.6+ MB\n",
      "None\n",
      "                                             text is_train   class\n",
      "count                                      408346   408346  407584\n",
      "unique                                     404423        2       7\n",
      "top     новости экономики новости компании рынков     True   world\n",
      "freq                                           13   407584  162184\n",
      "class\n",
      "world       162184\n",
      "politics    113942\n",
      "society      51555\n",
      "science      45519\n",
      "religion     22518\n",
      "culture       6610\n",
      "economy       5256\n",
      "Name: count, dtype: int64\n"
     ]
    }
   ],
   "source": [
    "news = pd.read_csv('datasets/text_series_full.csv', encoding='utf-8')\n",
    "news = news.drop(['Unnamed: 0'], axis=1)\n",
    "news_head = news.head()\n",
    "pd.set_option('expand_frame_repr', False)\n",
    "\n",
    "\n",
    "print(news_head)\n",
    "print(news.info())\n",
    "print(news.describe())\n",
    "print(news['class'].value_counts())"
   ],
   "metadata": {
    "collapsed": false,
    "ExecuteTime": {
     "end_time": "2024-01-29T21:03:36.527216200Z",
     "start_time": "2024-01-29T21:03:15.606165400Z"
    }
   },
   "id": "c25e897cc807f624",
   "execution_count": 10
  },
  {
   "cell_type": "code",
   "outputs": [
    {
     "data": {
      "text/plain": "                                                text  is_train     class\n0  трамп клинтон выиграли праймериз аризоне проиг...      True     world\n1  Госдума утвердила введение присяги вступлении ...      True  politics\n2  черная дыра роскосмоса откуда берутся заоблачн...      True  politics\n3  уганде родители пытались убить дочь переход ис...      True  religion\n4  Белгородский захватчик банка получил года коло...      True  politics",
      "text/html": "<div>\n<style scoped>\n    .dataframe tbody tr th:only-of-type {\n        vertical-align: middle;\n    }\n\n    .dataframe tbody tr th {\n        vertical-align: top;\n    }\n\n    .dataframe thead th {\n        text-align: right;\n    }\n</style>\n<table border=\"1\" class=\"dataframe\">\n  <thead>\n    <tr style=\"text-align: right;\">\n      <th></th>\n      <th>text</th>\n      <th>is_train</th>\n      <th>class</th>\n    </tr>\n  </thead>\n  <tbody>\n    <tr>\n      <th>0</th>\n      <td>трамп клинтон выиграли праймериз аризоне проиг...</td>\n      <td>True</td>\n      <td>world</td>\n    </tr>\n    <tr>\n      <th>1</th>\n      <td>Госдума утвердила введение присяги вступлении ...</td>\n      <td>True</td>\n      <td>politics</td>\n    </tr>\n    <tr>\n      <th>2</th>\n      <td>черная дыра роскосмоса откуда берутся заоблачн...</td>\n      <td>True</td>\n      <td>politics</td>\n    </tr>\n    <tr>\n      <th>3</th>\n      <td>уганде родители пытались убить дочь переход ис...</td>\n      <td>True</td>\n      <td>religion</td>\n    </tr>\n    <tr>\n      <th>4</th>\n      <td>Белгородский захватчик банка получил года коло...</td>\n      <td>True</td>\n      <td>politics</td>\n    </tr>\n  </tbody>\n</table>\n</div>"
     },
     "execution_count": 12,
     "metadata": {},
     "output_type": "execute_result"
    }
   ],
   "source": [
    "news.head()"
   ],
   "metadata": {
    "collapsed": false,
    "ExecuteTime": {
     "end_time": "2024-01-29T21:04:24.889360400Z",
     "start_time": "2024-01-29T21:04:24.877186600Z"
    }
   },
   "id": "9bf6e49ae262f22d",
   "execution_count": 12
  }
 ],
 "metadata": {
  "kernelspec": {
   "display_name": "Python 3",
   "language": "python",
   "name": "python3"
  },
  "language_info": {
   "codemirror_mode": {
    "name": "ipython",
    "version": 2
   },
   "file_extension": ".py",
   "mimetype": "text/x-python",
   "name": "python",
   "nbconvert_exporter": "python",
   "pygments_lexer": "ipython2",
   "version": "2.7.6"
  }
 },
 "nbformat": 4,
 "nbformat_minor": 5
}
